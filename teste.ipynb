{
 "cells": [
  {
   "cell_type": "code",
   "execution_count": 1,
   "metadata": {},
   "outputs": [],
   "source": [
    "import requests\n",
    "import json\n",
    "\n",
    "url = \"http://127.0.0.1:8000/uploadIndividualRegister\"  # URL da API que retorna os dados JSON\n",
    "data = {\n",
    "    \"data\":\"28/08/2023 10:01\",\n",
    "    \"estado\":\"funcionando\",\n",
    "    \"longitude\":\"-43.113899\",\n",
    "    \"latitude\":\"-22.802488\",\n",
    "    \"leitura\":10,\n",
    "    \"tipoleitor\":\"radiologico\",\n",
    "    \"leitor\":\"SpirID\"\n",
    "}\n",
    "headers = {'Content-Type': 'application/json'}\n",
    "response = requests.post(url,data=json.dumps(data),headers=headers)"
   ]
  },
  {
   "cell_type": "code",
   "execution_count": 2,
   "metadata": {},
   "outputs": [],
   "source": [
    "with open('output.json', 'r') as arquivo_json:\n",
    "        dados_json = json.load(arquivo_json)\n",
    "df = pd.DataFrame(dados_json)"
   ]
  },
  {
   "cell_type": "code",
   "execution_count": 5,
   "metadata": {},
   "outputs": [
    {
     "data": {
      "text/plain": [
       "False"
      ]
     },
     "execution_count": 5,
     "metadata": {},
     "output_type": "execute_result"
    },
    {
     "ename": "",
     "evalue": "",
     "output_type": "error",
     "traceback": [
      "\u001b[1;31mThe Kernel crashed while executing code in the the current cell or a previous cell. Please review the code in the cell(s) to identify a possible cause of the failure. Click <a href='https://aka.ms/vscodeJupyterKernelCrash'>here</a> for more info. View Jupyter <a href='command:jupyter.viewOutput'>log</a> for further details."
     ]
    }
   ],
   "source": [
    "colunas = ['Time', 'Mode', 'State', 'Warning 1', 'Warning 2', 'Longitude',\n",
    "       'Latitude', 'Heading', 'Speed', 'LGamma Dose rate (?Sv/h)',\n",
    "       'LGamma BKG dose rate (?Sv/h)', 'LGamma (cps)', 'LGamma Bkg (cps)',\n",
    "       'Neutron (cps)', 'Neutron Bkg (cps)', 'High range',\n",
    "       'HGamma filtered (cps)', 'HGamma filtered Dose rate (?Sv/h)',\n",
    "       'Ext (cps)', 'Event #', 'Acq state', 'Live time (s)', 'Temperature(C)',\n",
    "       'Dose (?Sv)', 'MCA Satured', 'ID 01', 'CL 01', 'ID 02', 'CL 02',\n",
    "       'ID 03', 'CL 03', 'ID 04', 'CL 04', 'ID 05', 'CL 05', 'ID 06', 'CL 06',\n",
    "       'ID 07', 'CL 07', 'ID 08', 'CL 08', 'Unnamed: 41']\n",
    "list(df.columns) != colunas"
   ]
  },
  {
   "cell_type": "code",
   "execution_count": 1,
   "metadata": {},
   "outputs": [
    {
     "ename": "NameError",
     "evalue": "name 'Request' is not defined",
     "output_type": "error",
     "traceback": [
      "\u001b[1;31m---------------------------------------------------------------------------\u001b[0m",
      "\u001b[1;31mNameError\u001b[0m                                 Traceback (most recent call last)",
      "Cell \u001b[1;32mIn[1], line 1\u001b[0m\n\u001b[1;32m----> 1\u001b[0m \u001b[39mdef\u001b[39;00m \u001b[39mupload_csv\u001b[39m(request: Request):\n\u001b[0;32m      2\u001b[0m     \u001b[39mwith\u001b[39;00m \u001b[39mopen\u001b[39m(\u001b[39m'\u001b[39m\u001b[39moutput.json\u001b[39m\u001b[39m'\u001b[39m, \u001b[39m'\u001b[39m\u001b[39mr\u001b[39m\u001b[39m'\u001b[39m) \u001b[39mas\u001b[39;00m arquivo_json:\n\u001b[0;32m      3\u001b[0m         dados_json \u001b[39m=\u001b[39m json\u001b[39m.\u001b[39mload(arquivo_json)\n",
      "\u001b[1;31mNameError\u001b[0m: name 'Request' is not defined"
     ]
    }
   ],
   "source": [
    "def upload_csv(request: Request):\n",
    "    with open('output.json', 'r') as arquivo_json:\n",
    "        dados_json = json.load(arquivo_json)\n",
    "\n",
    "    df = pd.DataFrame(dados_json)\n",
    "    \n",
    "    df.drop(\"Unnamed: 41\", axis=1, inplace=True)\n",
    "    df.replace(\"--\", None, inplace=True)\n",
    "    df.columns = [\n",
    "        \"time\",\n",
    "        \"mode\",\n",
    "        \"state\",\n",
    "        \"warning_1\",\n",
    "        \"warning_2\",\n",
    "        \"longitude\",\n",
    "        \"latitude\",\n",
    "        \"heading\",\n",
    "        \"speed\",\n",
    "        \"lgamma_dose_rate\",\n",
    "        \"lgamma_bkg_dose_rate\",\n",
    "        \"lgamma_cps\",\n",
    "        \"lgamma_bkg_cps\",\n",
    "        \"neutron_cps\",\n",
    "        \"neutron_bkg_cps\",\n",
    "        \"high_range\",\n",
    "        \"hgamma_filtered_cps\",\n",
    "        \"hgamma_filtered_dose_rate\",\n",
    "        \"ext_cps\",\n",
    "        \"event\",\n",
    "        \"acq_state\",\n",
    "        \"live_time_s\",\n",
    "        \"temperature_c\",\n",
    "        \"dose\",\n",
    "        \"mca_satured\",\n",
    "        \"id_01\",\n",
    "        \"cl_01\",\n",
    "        \"id_02\",\n",
    "        \"cl_02\",\n",
    "        \"id_03\",\n",
    "        \"cl_03\",\n",
    "        \"id_04\",\n",
    "        \"cl_04\",\n",
    "        \"id_05\",\n",
    "        \"cl_05\",\n",
    "        \"id_06\",\n",
    "        \"cl_06\",\n",
    "        \"id_07\",\n",
    "        \"cl_07\",\n",
    "        \"id_08\",\n",
    "        \"cl_08\",\n",
    "    ]\n",
    "\n",
    "    \n",
    "    df_base = df[[\n",
    "        \"time\",\n",
    "        \"state\",\n",
    "        \"longitude\",\n",
    "        \"latitude\",\n",
    "        \"lgamma_dose_rate\"\n",
    "        ]]\n",
    "    \n",
    "    \n",
    "    df_base[\"danger\"] = df[\"lgamma_dose_rate\"] > perigo_spir_id\n",
    "    df_base[\"tipoleitor\"] = \"radiologico\"\n",
    "    df_base[\"leitor\"] = \"SpirId\"\n",
    "    \n",
    "    df_base = df_base[[\n",
    "        \"time\",\n",
    "        \"tipoleitor\",\n",
    "        \"leitor\",\n",
    "        \"state\",\n",
    "        \"longitude\",\n",
    "        \"latitude\",\n",
    "        \"danger\"\n",
    "        ]]\n",
    "      \n",
    "    insert_dataframe_to_sql(df, \"spirid\")\n",
    "    insert_dataframe_to_sql(df_base, \"tabela_base\")\n",
    "\n",
    "    return True"
   ]
  },
  {
   "cell_type": "code",
   "execution_count": 37,
   "metadata": {},
   "outputs": [
    {
     "name": "stdout",
     "output_type": "stream",
     "text": [
      "Index(['time', 'mode', 'state', 'warning_1', 'warning_2', 'longitude',\n",
      "       'latitude', 'heading', 'speed', 'lgamma_dose_rate',\n",
      "       'lgamma_bkg_dose_rate', 'lgamma_cps', 'lgamma_bkg_cps', 'neutron_cps',\n",
      "       'neutron_bkg_cps', 'high_range', 'hgamma_filtered_cps',\n",
      "       'hgamma_filtered_dose_rate', 'ext_cps', 'event', 'acq_state',\n",
      "       'live_time_s', 'temperature_c', 'dose', 'mca_satured', 'id_01', 'cl_01',\n",
      "       'id_02', 'cl_02', 'id_03', 'cl_03', 'id_04', 'cl_04', 'id_05', 'cl_05',\n",
      "       'id_06', 'cl_06', 'id_07', 'cl_07', 'id_08', 'cl_08'],\n",
      "      dtype='object')\n"
     ]
    },
    {
     "name": "stderr",
     "output_type": "stream",
     "text": [
      "C:\\Users\\Gustavo Marin\\AppData\\Local\\Temp\\ipykernel_24792\\3129571711.py:64: SettingWithCopyWarning: \n",
      "A value is trying to be set on a copy of a slice from a DataFrame.\n",
      "Try using .loc[row_indexer,col_indexer] = value instead\n",
      "\n",
      "See the caveats in the documentation: https://pandas.pydata.org/pandas-docs/stable/user_guide/indexing.html#returning-a-view-versus-a-copy\n",
      "  df_base[\"danger\"] = df[\"lgamma_dose_rate\"] > perigo_spir_id\n",
      "C:\\Users\\Gustavo Marin\\AppData\\Local\\Temp\\ipykernel_24792\\3129571711.py:65: SettingWithCopyWarning: \n",
      "A value is trying to be set on a copy of a slice from a DataFrame.\n",
      "Try using .loc[row_indexer,col_indexer] = value instead\n",
      "\n",
      "See the caveats in the documentation: https://pandas.pydata.org/pandas-docs/stable/user_guide/indexing.html#returning-a-view-versus-a-copy\n",
      "  df_base[\"tipoleitor\"] = \"radiologico\"\n",
      "C:\\Users\\Gustavo Marin\\AppData\\Local\\Temp\\ipykernel_24792\\3129571711.py:66: SettingWithCopyWarning: \n",
      "A value is trying to be set on a copy of a slice from a DataFrame.\n",
      "Try using .loc[row_indexer,col_indexer] = value instead\n",
      "\n",
      "See the caveats in the documentation: https://pandas.pydata.org/pandas-docs/stable/user_guide/indexing.html#returning-a-view-versus-a-copy\n",
      "  df_base[\"leitor\"] = \"SpirId\"\n"
     ]
    },
    {
     "data": {
      "text/plain": [
       "True"
      ]
     },
     "execution_count": 37,
     "metadata": {},
     "output_type": "execute_result"
    }
   ],
   "source": [
    "upload_csv(\"ok\")"
   ]
  },
  {
   "cell_type": "code",
   "execution_count": 31,
   "metadata": {},
   "outputs": [],
   "source": [
    "grupo_mes_ano.reset_index(inplace=True)\n",
    "grupo_mes_ano['data'] = grupo_mes_ano['ano'].astype(str)  + grupo_mes_ano['mes'].astype(str) + '01'\n",
    "\n",
    "# Converte a coluna para o tipo datetime\n",
    "grupo_mes_ano[\"data\"] = pd.to_datetime(grupo_mes_ano[\"data\"], format='%Y%m%d')\n",
    "# Remova a coluna 'danger' e redefina o índice do DataFrame\n",
    "grupo_mes_ano = grupo_mes_ano[[\"data\",\"porcentagem_danger_true\",\"danger_true\",\"total_linhas\"]]"
   ]
  },
  {
   "cell_type": "code",
   "execution_count": 32,
   "metadata": {},
   "outputs": [
    {
     "data": {
      "text/html": [
       "<div>\n",
       "<style scoped>\n",
       "    .dataframe tbody tr th:only-of-type {\n",
       "        vertical-align: middle;\n",
       "    }\n",
       "\n",
       "    .dataframe tbody tr th {\n",
       "        vertical-align: top;\n",
       "    }\n",
       "\n",
       "    .dataframe thead th {\n",
       "        text-align: right;\n",
       "    }\n",
       "</style>\n",
       "<table border=\"1\" class=\"dataframe\">\n",
       "  <thead>\n",
       "    <tr style=\"text-align: right;\">\n",
       "      <th></th>\n",
       "      <th>data</th>\n",
       "      <th>porcentagem_danger_true</th>\n",
       "      <th>danger_true</th>\n",
       "      <th>total_linhas</th>\n",
       "    </tr>\n",
       "  </thead>\n",
       "  <tbody>\n",
       "    <tr>\n",
       "      <th>0</th>\n",
       "      <td>2017-04-01</td>\n",
       "      <td>99.897458</td>\n",
       "      <td>13639</td>\n",
       "      <td>13653</td>\n",
       "    </tr>\n",
       "  </tbody>\n",
       "</table>\n",
       "</div>"
      ],
      "text/plain": [
       "        data  porcentagem_danger_true  danger_true  total_linhas\n",
       "0 2017-04-01                99.897458        13639         13653"
      ]
     },
     "execution_count": 32,
     "metadata": {},
     "output_type": "execute_result"
    }
   ],
   "source": [
    "grupo_mes_ano"
   ]
  }
 ],
 "metadata": {
  "kernelspec": {
   "display_name": "pfc",
   "language": "python",
   "name": "python3"
  },
  "language_info": {
   "codemirror_mode": {
    "name": "ipython",
    "version": 3
   },
   "file_extension": ".py",
   "mimetype": "text/x-python",
   "name": "python",
   "nbconvert_exporter": "python",
   "pygments_lexer": "ipython3",
   "version": "3.8.8"
  },
  "orig_nbformat": 4
 },
 "nbformat": 4,
 "nbformat_minor": 2
}
